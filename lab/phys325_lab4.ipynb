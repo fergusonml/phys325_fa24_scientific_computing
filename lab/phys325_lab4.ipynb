{
 "cells": [
  {
   "cell_type": "markdown",
   "metadata": {
    "cell_id": "b9da7b209698433ab9d73eb7b3cbc516",
    "deepnote_cell_height": 181,
    "deepnote_cell_type": "markdown",
    "id": "zSc7jr1tbQog"
   },
   "source": [
    "# Problem 1: practicing numpy array & matrix indexing and slicing"
   ]
  },
  {
   "cell_type": "markdown",
   "metadata": {
    "cell_id": "768c5e08075f41dca34fef3da3cf8d0a",
    "deepnote_cell_height": 141.375,
    "deepnote_cell_type": "markdown",
    "id": "zt6f6w6yaD5z"
   },
   "source": [
    "(a) Write a matrix (a 2D numpy array) that looks like\n",
    "$$\n",
    "\\begin{bmatrix}\n",
    "1 & 2 & 3\\\\\n",
    "4 & 5 & 6 \\\\\n",
    "7 & 8 & 10\n",
    "\\end{bmatrix}\n",
    "$$"
   ]
  },
  {
   "cell_type": "code",
   "execution_count": null,
   "metadata": {
    "cell_id": "f23045c4e83f459594fbae16eb05a568",
    "deepnote_cell_height": 61,
    "deepnote_cell_type": "code",
    "id": "IzZ7wIjvaTrs"
   },
   "outputs": [],
   "source": []
  },
  {
   "cell_type": "markdown",
   "metadata": {
    "cell_id": "1a57d546d650439f9044148c8da6ae96",
    "deepnote_cell_height": 52.390625,
    "deepnote_cell_type": "markdown",
    "id": "595qths1boWM"
   },
   "source": [
    "(b) Print element on the second row, 3rd column (should be 6)."
   ]
  },
  {
   "cell_type": "code",
   "execution_count": null,
   "metadata": {
    "cell_id": "9b043b6b29d6439bac0387337d638d02",
    "deepnote_cell_height": 61,
    "deepnote_cell_type": "code",
    "id": "RFj9hTszb3gL"
   },
   "outputs": [],
   "source": []
  },
  {
   "cell_type": "markdown",
   "metadata": {
    "cell_id": "74aba9c8129343a183718788b0a217ec",
    "deepnote_cell_height": 52.390625,
    "deepnote_cell_type": "markdown",
    "id": "ZJJIhUYCaSuV"
   },
   "source": [
    "(c) Print out everything in the second row (should be [4,5,6])."
   ]
  },
  {
   "cell_type": "code",
   "execution_count": null,
   "metadata": {
    "cell_id": "429b0f73dd094146b5898fd883419dfc",
    "deepnote_cell_height": 61,
    "deepnote_cell_type": "code",
    "id": "wtSJbc8_a3-F"
   },
   "outputs": [],
   "source": []
  },
  {
   "cell_type": "markdown",
   "metadata": {
    "cell_id": "2e9adddf7d884ae4af8540841b2b76b8",
    "deepnote_cell_height": 52.390625,
    "deepnote_cell_type": "markdown",
    "id": "DMrVYdLbaEWT"
   },
   "source": [
    "(d) Print out everything in the first column (should be 1, 4, 7)."
   ]
  },
  {
   "cell_type": "code",
   "execution_count": null,
   "metadata": {
    "cell_id": "66c96f6d24c54743b54d8ac5f444558e",
    "deepnote_cell_height": 61,
    "deepnote_cell_type": "code",
    "id": "zQUOwhZtbGQA"
   },
   "outputs": [],
   "source": []
  },
  {
   "cell_type": "markdown",
   "metadata": {
    "cell_id": "e0b9f3510b984f18a7ccf60517ddf097",
    "deepnote_cell_height": 52.390625,
    "deepnote_cell_type": "markdown",
    "id": "H5jUeGGAaEaC"
   },
   "source": [
    "(e) For the first column, print out the numbers greater than 2."
   ]
  },
  {
   "cell_type": "code",
   "execution_count": null,
   "metadata": {
    "cell_id": "9dee1e9e195d41b8bb095d5ccb941bca",
    "deepnote_cell_height": 61,
    "deepnote_cell_type": "code",
    "id": "iMDjhAbGbHEO"
   },
   "outputs": [],
   "source": []
  },
  {
   "cell_type": "markdown",
   "metadata": {
    "cell_id": "fb65beb2b356467caa5c3e35f2c89cdb",
    "deepnote_cell_height": 52.390625,
    "deepnote_cell_type": "markdown",
    "id": "W2atfy0KaEh5"
   },
   "source": [
    "(f) Calculate the sum of the entire matrix."
   ]
  },
  {
   "cell_type": "code",
   "execution_count": null,
   "metadata": {
    "cell_id": "6e388781f1e64b358be572c80e01d4d9",
    "deepnote_cell_height": 61,
    "deepnote_cell_type": "code",
    "id": "9RgiUzb8cEHc"
   },
   "outputs": [],
   "source": []
  },
  {
   "cell_type": "markdown",
   "metadata": {
    "cell_id": "6b03caea39a5458c85b29f462edc57e6",
    "deepnote_cell_height": 52.390625,
    "deepnote_cell_type": "markdown",
    "id": "aTI14ekccEaW"
   },
   "source": [
    "(g) Calculate the sum of the first column."
   ]
  },
  {
   "cell_type": "code",
   "execution_count": null,
   "metadata": {
    "cell_id": "0c93ba5a6c3444caa3c12932d638da61",
    "deepnote_cell_height": 61,
    "deepnote_cell_type": "code",
    "id": "Z7m3L302coF9"
   },
   "outputs": [],
   "source": []
  },
  {
   "cell_type": "markdown",
   "metadata": {
    "cell_id": "dddac5333ff64fb79674703c656e9e92",
    "deepnote_cell_height": 52.390625,
    "deepnote_cell_type": "markdown",
    "id": "S-HQq6qwcxRM"
   },
   "source": [
    "(h) Calculate the mean of the first column."
   ]
  },
  {
   "cell_type": "code",
   "execution_count": null,
   "metadata": {
    "cell_id": "7fc01df2f878471494a810de9909cb4c",
    "deepnote_cell_height": 61,
    "deepnote_cell_type": "code",
    "id": "FIdeTBQhcI9G"
   },
   "outputs": [],
   "source": []
  },
  {
   "cell_type": "markdown",
   "metadata": {
    "cell_id": "053cc038953a4e8db58d592ee762239f",
    "deepnote_cell_height": 52.390625,
    "deepnote_cell_type": "markdown",
    "id": "FthglxGJc_rn"
   },
   "source": [
    "(i) Transpose the matrix."
   ]
  },
  {
   "cell_type": "code",
   "execution_count": null,
   "metadata": {
    "cell_id": "c84b2dd4584f4625a702db774e264961",
    "deepnote_cell_height": 61,
    "deepnote_cell_type": "code",
    "id": "nR5QphzUc7IJ"
   },
   "outputs": [],
   "source": []
  },
  {
   "cell_type": "markdown",
   "metadata": {
    "cell_id": "0c548ae08bb64c8da85a184043df37ec",
    "deepnote_cell_height": 462.828125,
    "deepnote_cell_type": "markdown",
    "id": "WJa1WI8wgCVp"
   },
   "source": [
    "# Problem 2: Numerical accuracy\n",
    "\n",
    "(Newman Exercise 4.3)\n",
    "\n",
    "(Greek letter $\\delta$ is spelled as delta)\n",
    "\n",
    "Suppose we have a function $f(x)$ and we want to calculate its derivative at a point $x$.  We can do that with pencil and paper if we know the mathematical form of the function, or we can do it on\n",
    "the computer by making use of the definition of the derivative:\n",
    "$\n",
    "{d f\\over d x} = \\lim_{\\delta\\to 0} {f(x+\\delta)-f(x)\\over\\delta}.\n",
    "$\n",
    "\n",
    "On the computer we can't actually take the limit as $\\delta$ goes to\n",
    "zero, but we can get a reasonable approximation just by making $\\delta$\n",
    "small."
   ]
  },
  {
   "cell_type": "markdown",
   "metadata": {
    "cell_id": "01b91abc26a64286a9cc1461d94d74f6",
    "deepnote_cell_height": 97.96875,
    "deepnote_cell_type": "markdown",
    "id": "nQYC_l5Qgpdu"
   },
   "source": [
    "(a) Write a program that defines a function $f(x)$ returning the  value $x(x-1)$, then calculates the derivative of the function at the point $x=1$ using the formula above with $\\delta=10^{-2}$.  "
   ]
  },
  {
   "cell_type": "code",
   "execution_count": null,
   "metadata": {
    "cell_id": "d52a854fe48d4e79853d3ee32aa6db9b",
    "deepnote_cell_height": 61,
    "deepnote_cell_type": "code",
    "id": "0njYnhvHhD9X"
   },
   "outputs": [],
   "source": []
  },
  {
   "cell_type": "markdown",
   "metadata": {
    "cell_id": "9a7123e7408245e7a0b3caabc08d2a1d",
    "deepnote_cell_height": 97.1875,
    "deepnote_cell_type": "markdown",
    "id": "rFivpZiZe3dg",
    "tags": []
   },
   "source": [
    "(b) What is the true value of this derivative?  Your numerical result does not agree with the analytical result perfectly.  Why not?"
   ]
  },
  {
   "cell_type": "code",
   "execution_count": null,
   "metadata": {
    "cell_id": "725ddaca7f104e9bbd71c2acef4aabb3",
    "deepnote_cell_height": 61,
    "deepnote_cell_type": "code",
    "id": "6bcwyQCie3dg",
    "tags": []
   },
   "outputs": [],
   "source": []
  },
  {
   "cell_type": "markdown",
   "metadata": {
    "cell_id": "e99b63bdcd594d3199c38db7d2d37b32",
    "deepnote_cell_height": 142.5,
    "deepnote_cell_type": "markdown",
    "id": "_sx_P4WCg01h"
   },
   "source": [
    "(c) Repeat the calculation for $\\delta=10^{-4}$, $10^{-6}$, $10^{-8}$, $10^{-10}$, $10^{-12}$, and $10^{-14}$.  \n",
    "Print the numerical error (absolute value of the difference between the true answer and the numerical result) for each $\\delta$ value."
   ]
  },
  {
   "cell_type": "code",
   "execution_count": null,
   "metadata": {
    "cell_id": "570cf7a9d0a2470caf49e00d8807f20d",
    "deepnote_cell_height": 61,
    "deepnote_cell_type": "code",
    "id": "A1382_dEgGT9"
   },
   "outputs": [],
   "source": []
  },
  {
   "cell_type": "markdown",
   "metadata": {
    "cell_id": "e75b3251d86e49ed9b30a1ec0454f622",
    "deepnote_cell_height": 75.046875,
    "deepnote_cell_type": "markdown",
    "id": "o2jk92wVe3dh",
    "tags": []
   },
   "source": [
    "(d) Plot the numerical error vs. $\\delta$, for all the $\\delta$ values above, Please use log scales for both x and y axes."
   ]
  },
  {
   "cell_type": "code",
   "execution_count": null,
   "metadata": {
    "cell_id": "87d296731c9048d49ee47721a61acafb",
    "deepnote_cell_height": 61,
    "deepnote_cell_type": "code",
    "id": "RAHlKWI3e3dh",
    "tags": []
   },
   "outputs": [],
   "source": []
  },
  {
   "cell_type": "markdown",
   "metadata": {
    "cell_id": "48ae9b60d8b44881834b9cbe6e6b3b41",
    "deepnote_cell_height": 97.4375,
    "deepnote_cell_type": "markdown",
    "id": "73XcNk_de3dh",
    "tags": []
   },
   "source": [
    "(e) The accuracy of the calculation initially gets better as $\\delta$ gets smaller, but then gets worse again.  Why is this (describe in words)?"
   ]
  },
  {
   "cell_type": "code",
   "execution_count": null,
   "metadata": {
    "cell_id": "3843b3d6b90840ceb772d3714af16f9f",
    "deepnote_cell_height": 61,
    "deepnote_cell_type": "code",
    "id": "CR7XXzmme3dh",
    "tags": []
   },
   "outputs": [],
   "source": []
  },
  {
   "cell_type": "markdown",
   "metadata": {
    "cell_id": "dac470f488ed4fcabee2455cea978669",
    "deepnote_cell_height": 186,
    "deepnote_cell_type": "markdown",
    "id": "JSOd8x0RfRCW"
   },
   "source": [
    "# Problem 3: Practicing array filtering and sorting"
   ]
  },
  {
   "cell_type": "code",
   "execution_count": null,
   "metadata": {
    "cell_id": "77ac7f882d4145f494574ffb64a45309",
    "deepnote_cell_height": 120,
    "deepnote_cell_type": "code",
    "id": "UCqWMeejfm8J"
   },
   "outputs": [],
   "source": [
    "import numpy as np\n",
    "state_arr = np.array(['CA', 'TX', 'NY', 'FL', 'IL'])\n",
    "area_arr = np.array([423967, 695662, 141297, 170312, 149995])\n",
    "population_arr = np.array([38332521, 26448193, 19651127, 19552860, 12882135])"
   ]
  },
  {
   "cell_type": "markdown",
   "metadata": {
    "cell_id": "b7d0d16345c5432e98934d58e989625a",
    "deepnote_cell_height": 52.390625,
    "deepnote_cell_type": "markdown",
    "id": "KbYlHmbzfo3y"
   },
   "source": [
    "(a) Find the states with area > $1.5\\times 10^5$."
   ]
  },
  {
   "cell_type": "code",
   "execution_count": null,
   "metadata": {
    "cell_id": "d8f92c8a87224b98a5272d65d02b802a",
    "deepnote_cell_height": 61,
    "deepnote_cell_type": "code",
    "id": "GKU72i0EfqW2"
   },
   "outputs": [],
   "source": []
  },
  {
   "cell_type": "markdown",
   "metadata": {
    "cell_id": "7bceb6b588e240d4965084478420f84c",
    "deepnote_cell_height": 52.390625,
    "deepnote_cell_type": "markdown",
    "id": "j_JE6XOJfqnP"
   },
   "source": [
    "(b) Find the states with population > $2\\times 10^7$."
   ]
  },
  {
   "cell_type": "code",
   "execution_count": null,
   "metadata": {
    "cell_id": "c1174479cca349238e7208e3687963d0",
    "deepnote_cell_height": 61,
    "deepnote_cell_type": "code",
    "id": "Ws2gVB0ufxxm"
   },
   "outputs": [],
   "source": []
  },
  {
   "cell_type": "markdown",
   "metadata": {
    "cell_id": "850785d065ad489e89066e3ef175a64b",
    "deepnote_cell_height": 52.390625,
    "deepnote_cell_type": "markdown",
    "id": "MfBEoU7dfyJe"
   },
   "source": [
    "(c) Find the states satisfying both criteria."
   ]
  },
  {
   "cell_type": "code",
   "execution_count": null,
   "metadata": {
    "cell_id": "11196ce500cc49f4b913ca88b5bcac80",
    "deepnote_cell_height": 61,
    "deepnote_cell_type": "code",
    "id": "vhhT9t5Zf1Ue"
   },
   "outputs": [],
   "source": []
  },
  {
   "cell_type": "markdown",
   "metadata": {
    "cell_id": "5d79c64c7eb94535bf0b6b412b54f791",
    "deepnote_cell_height": 52.390625,
    "deepnote_cell_type": "markdown",
    "id": "XvbeNbRnf1iE"
   },
   "source": [
    "(d) Find the state with the highest population density."
   ]
  },
  {
   "cell_type": "code",
   "execution_count": null,
   "metadata": {
    "cell_id": "276d9ce2782c48a785403f001708df74",
    "deepnote_cell_type": "code",
    "id": "YH7akcIdf5g7"
   },
   "outputs": [],
   "source": []
  },
  {
   "cell_type": "markdown",
   "metadata": {
    "cell_id": "20a4cf236e3043888948fbc70cac3b10",
    "deepnote_cell_type": "markdown",
    "id": "B8Zprm5tf_Yz"
   },
   "source": [
    "(e) Print out the state names, from the highest population density to the lowest."
   ]
  },
  {
   "cell_type": "code",
   "execution_count": null,
   "metadata": {
    "cell_id": "92a5426fa14e4a4e8f604152b266f521",
    "deepnote_cell_type": "code",
    "id": "9ObDZtqXf-4T"
   },
   "outputs": [],
   "source": []
  }
 ],
 "metadata": {
  "colab": {
   "provenance": []
  },
  "deepnote": {},
  "deepnote_execution_queue": [],
  "deepnote_notebook_id": "b5d0a193a0b84de7a24b7fdcc403e931",
  "kernelspec": {
   "display_name": "Python 3 (ipykernel)",
   "language": "python",
   "name": "python3"
  },
  "language_info": {
   "codemirror_mode": {
    "name": "ipython",
    "version": 3
   },
   "file_extension": ".py",
   "mimetype": "text/x-python",
   "name": "python",
   "nbconvert_exporter": "python",
   "pygments_lexer": "ipython3",
   "version": "3.10.9"
  }
 },
 "nbformat": 4,
 "nbformat_minor": 4
}
