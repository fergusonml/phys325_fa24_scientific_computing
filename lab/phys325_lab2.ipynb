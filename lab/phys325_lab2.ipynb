{
 "cells": [
  {
   "cell_type": "markdown",
   "metadata": {
    "cell_id": "e1fc5bf3c2ad495a9dbe6155481a73cc",
    "deepnote_cell_height": 134,
    "deepnote_cell_type": "markdown",
    "id": "euYsUxYXh6cl"
   },
   "source": [
    "# Problem 1: plotting a function"
   ]
  },
  {
   "cell_type": "markdown",
   "metadata": {
    "cell_id": "e197bf01411d4285b5f16e7e7c1ced9d",
    "deepnote_cell_height": 74.78125,
    "deepnote_cell_type": "markdown",
    "id": "RjZoS_FYh_RZ"
   },
   "source": [
    "(a) Use `np.arange` to create a numpy array that looks like this: [0.1, 0.2, 0.3, .... 1.0].  Call it `x_arr`, print it out.\n"
   ]
  },
  {
   "cell_type": "code",
   "execution_count": null,
   "metadata": {
    "cell_id": "3294b1e82db3409ba981af2d3d757d39",
    "deepnote_cell_height": 76,
    "deepnote_cell_type": "code",
    "deepnote_to_be_reexecuted": false,
    "execution_millis": 434,
    "execution_start": 1630693142313,
    "id": "Noq0okUxiMw_",
    "source_hash": "1ed3300c"
   },
   "outputs": [],
   "source": []
  },
  {
   "cell_type": "markdown",
   "metadata": {
    "cell_id": "f2611a25f0ec499dac44564f13b5f4de",
    "deepnote_cell_height": 55.140625,
    "deepnote_cell_type": "markdown",
    "id": "JsLOSSuBiNCg"
   },
   "source": [
    "(b) Define a function $f(x) = \\frac{1}{x(x^2 + 1)}$"
   ]
  },
  {
   "cell_type": "code",
   "execution_count": null,
   "metadata": {
    "cell_id": "a0703e3ad0e0475aa178873c16fc45b8",
    "deepnote_cell_height": 61,
    "deepnote_cell_type": "code",
    "id": "PmkjTA95imMT"
   },
   "outputs": [],
   "source": []
  },
  {
   "cell_type": "markdown",
   "metadata": {
    "cell_id": "9c30f3a1c04a4694a53dd82aa1509e78",
    "deepnote_cell_height": 52.390625,
    "deepnote_cell_type": "markdown",
    "id": "djYFAXPTiQKC"
   },
   "source": [
    "(c) Evaluate f(x) at `x_arr` (without using a for-loop). Call the result `y_arr`"
   ]
  },
  {
   "cell_type": "code",
   "execution_count": null,
   "metadata": {
    "cell_id": "18b104bd0ab244e381096bb3f071248d",
    "deepnote_cell_height": 61,
    "deepnote_cell_type": "code",
    "id": "VGjDaMpZikGK"
   },
   "outputs": [],
   "source": []
  },
  {
   "cell_type": "markdown",
   "metadata": {
    "cell_id": "93e18bf7ddeb49d1a5e3a4b20999a1c2",
    "deepnote_cell_height": 52.390625,
    "deepnote_cell_type": "markdown",
    "id": "wOss0izEizvz"
   },
   "source": [
    "(d) Plot x vs. f(x).  Add axis labels."
   ]
  },
  {
   "cell_type": "code",
   "execution_count": null,
   "metadata": {
    "cell_id": "6b45c99f55964c83a636640ab4f8ac6d",
    "deepnote_cell_height": 61,
    "deepnote_cell_type": "code",
    "id": "El9lQFQ1i2j5"
   },
   "outputs": [],
   "source": []
  },
  {
   "cell_type": "markdown",
   "metadata": {
    "cell_id": "5be65bf0040345a18027438664caa494",
    "deepnote_cell_height": 134,
    "deepnote_cell_type": "markdown",
    "id": "W2-DFjoGcIEz"
   },
   "source": [
    "# Problem 2: using numpy arrays instead of for-loops"
   ]
  },
  {
   "cell_type": "markdown",
   "metadata": {
    "cell_id": "219485dd668142028eb605d854a38f08",
    "deepnote_cell_height": 52.390625,
    "deepnote_cell_type": "markdown",
    "id": "DwvGghq4de_3"
   },
   "source": [
    "(a) Calculate the sum from 0 to 100 (without using a for loop)."
   ]
  },
  {
   "cell_type": "code",
   "execution_count": null,
   "metadata": {
    "cell_id": "dfb4fc76002445e2b2dcccb9f00afe59",
    "deepnote_cell_height": 61,
    "deepnote_cell_type": "code",
    "id": "p0XYql-vdkjc"
   },
   "outputs": [],
   "source": []
  },
  {
   "cell_type": "markdown",
   "metadata": {
    "cell_id": "e85ee5bc2c174902b070a2a50b57d1e0",
    "deepnote_cell_height": 133.578125,
    "deepnote_cell_type": "markdown",
    "id": "zaGrGJKAdlFx"
   },
   "source": [
    "(b) Calculate the harmonic sum from 1 to n (integers).\n",
    "  (The harmonic sum is the sum of reciprocals of the positive integers: 1+1/2+1/3+...+1/n)\n",
    "\n",
    "For n = 3, n = 10, and n = 100"
   ]
  },
  {
   "cell_type": "code",
   "execution_count": null,
   "metadata": {
    "cell_id": "9143068cc9604af0b7b4892ea02414c5",
    "deepnote_cell_height": 61,
    "deepnote_cell_type": "code",
    "id": "NulaOWbtei4C"
   },
   "outputs": [],
   "source": []
  },
  {
   "cell_type": "markdown",
   "metadata": {
    "cell_id": "0d3e8aee68cd423eb908b0aa78657bbc",
    "deepnote_cell_height": 134,
    "deepnote_cell_type": "markdown",
    "id": "d2mNRtpyjXLA"
   },
   "source": [
    "\n",
    "\n",
    "# Problem 3: plotting & array filtering"
   ]
  },
  {
   "cell_type": "markdown",
   "metadata": {
    "cell_id": "60f52d750dac4560871185dfcea8f89e",
    "deepnote_cell_height": 52.390625,
    "deepnote_cell_type": "markdown",
    "id": "bi8AcN5agj5O"
   },
   "source": [
    "(a) Plot the sine function between (0, 2$\\pi$)\n",
    "\n"
   ]
  },
  {
   "cell_type": "code",
   "execution_count": null,
   "metadata": {
    "cell_id": "0c41f3630c5f4dcd86257771fe0ec996",
    "deepnote_cell_height": 61,
    "deepnote_cell_type": "code",
    "id": "3mzXUxVNgina"
   },
   "outputs": [],
   "source": []
  },
  {
   "cell_type": "markdown",
   "metadata": {
    "cell_id": "ba6307c7a44c428db8f01bd6f86508f3",
    "deepnote_cell_height": 52.390625,
    "deepnote_cell_type": "markdown",
    "id": "0uh-moZsfYb_"
   },
   "source": [
    "(b) Plot the cosine function between(0, 2$\\pi$)."
   ]
  },
  {
   "cell_type": "code",
   "execution_count": null,
   "metadata": {
    "cell_id": "3cdb39aa943442ee8feb91078a2069d9",
    "deepnote_cell_height": 61,
    "deepnote_cell_type": "code",
    "id": "vOs5Z4KvjM08"
   },
   "outputs": [],
   "source": []
  },
  {
   "cell_type": "markdown",
   "metadata": {
    "cell_id": "ddabffada8594bafbdee55bffd9b34d4",
    "deepnote_cell_height": 52.390625,
    "deepnote_cell_type": "markdown",
    "id": "RKOMoMKUnk_8"
   },
   "source": [
    "(c) Plot both functions on the same figure, and add the legend."
   ]
  },
  {
   "cell_type": "code",
   "execution_count": null,
   "metadata": {
    "cell_id": "c95cd4c930d141859decdbcbaa6db5b1",
    "deepnote_cell_height": 61,
    "deepnote_cell_type": "code",
    "id": "VI6ov2XdnjhS"
   },
   "outputs": [],
   "source": []
  },
  {
   "cell_type": "markdown",
   "metadata": {
    "cell_id": "8fd48f0aa0e344918fafc9c6a33ebbec",
    "deepnote_cell_height": 52.390625,
    "deepnote_cell_type": "markdown",
    "id": "RXVS2DmwjgT1"
   },
   "source": [
    "(d) Plot sine but only where sine is greater than 0."
   ]
  },
  {
   "cell_type": "code",
   "execution_count": null,
   "metadata": {
    "cell_id": "1ff56376a2824556b94c1b7787eed6b4",
    "deepnote_cell_height": 61,
    "deepnote_cell_type": "code",
    "id": "WnT0sTYtY1Wv"
   },
   "outputs": [],
   "source": []
  },
  {
   "cell_type": "markdown",
   "metadata": {
    "cell_id": "070e3f78a51441ffa6bccd0f2a287018",
    "deepnote_cell_height": 52.390625,
    "deepnote_cell_type": "markdown",
    "id": "0F5qKTL1NpH8"
   },
   "source": [
    "(e) Plot both sine & cosine, but only where sine is greater than cosine."
   ]
  },
  {
   "cell_type": "code",
   "execution_count": null,
   "metadata": {
    "cell_id": "69bdab20009744e3b77fad9eefe4f42c",
    "deepnote_cell_height": 61,
    "deepnote_cell_type": "code",
    "id": "oG0IX93nNw_3"
   },
   "outputs": [],
   "source": []
  },
  {
   "cell_type": "markdown",
   "metadata": {
    "cell_id": "31fd1a91a02b42e8a0998789dbcb0464",
    "deepnote_cell_height": 267.578125,
    "deepnote_cell_type": "markdown",
    "id": "IYTlaDDXY5np"
   },
   "source": [
    "# Problem 4: practicing array sorting\n",
    "I borrowed this example from\n",
    "\n",
    "https://www.youtube.com/watch?v=fD4aKa0TeQM&ab_channel=Finxter-CreateYourCodingBusiness\n",
    "\n",
    "You're encouraged to watch it if you find this problem difficult."
   ]
  },
  {
   "cell_type": "code",
   "execution_count": null,
   "metadata": {
    "cell_id": "e4eabcd6515b488c8bd164704076d011",
    "deepnote_cell_height": 120,
    "deepnote_cell_type": "code",
    "id": "K3DUcDOBY1di"
   },
   "outputs": [],
   "source": [
    "# run this first\n",
    "import numpy as np\n",
    "sat_scores = np.array([1440, 1256, 1543, 1043, 989, 1412, 1343])\n",
    "students = np.array([\"Elmo\", \"Big Bird\", \"Abby\", \"Bert\", \"Grover\", \"Count von Count\", \"Cookie Monster\"])"
   ]
  },
  {
   "cell_type": "markdown",
   "metadata": {
    "cell_id": "0013564cac554b2c872772a5b732248e",
    "deepnote_cell_height": 52.390625,
    "deepnote_cell_type": "markdown",
    "id": "Dx9fDmFydTSh"
   },
   "source": [
    "(a) Sort the student scores, from low to high."
   ]
  },
  {
   "cell_type": "code",
   "execution_count": null,
   "metadata": {
    "cell_id": "a132a45fa54c49d49a3f42738a99f88d",
    "deepnote_cell_height": 61,
    "deepnote_cell_type": "code",
    "id": "F-iR9_SZdrUO"
   },
   "outputs": [],
   "source": []
  },
  {
   "cell_type": "markdown",
   "metadata": {
    "cell_id": "f428745c1e0f44c9a8ad38021db155b2",
    "deepnote_cell_height": 52.390625,
    "deepnote_cell_type": "markdown",
    "id": "uTWLY0NGdWQm"
   },
   "source": [
    "(b) Sort the student names by their scores, from low to high."
   ]
  },
  {
   "cell_type": "code",
   "execution_count": null,
   "metadata": {
    "cell_id": "41bb214860094fb98eb948d14a245f4c",
    "deepnote_cell_height": 61,
    "deepnote_cell_type": "code",
    "id": "M52JP7PIdr2-"
   },
   "outputs": [],
   "source": []
  },
  {
   "cell_type": "markdown",
   "metadata": {
    "cell_id": "8776a6e4f3e340f9a321ec658791605e",
    "deepnote_cell_height": 52.390625,
    "deepnote_cell_type": "markdown",
    "id": "qQsQ899Fbuty"
   },
   "source": [
    "(c) Sort the student names by their scores, from high to low."
   ]
  },
  {
   "cell_type": "code",
   "execution_count": null,
   "metadata": {
    "cell_id": "64b5d13c317f45ab8022a75fd0894435",
    "deepnote_cell_height": 61,
    "deepnote_cell_type": "code",
    "id": "GIRKGKeAdscS"
   },
   "outputs": [],
   "source": []
  },
  {
   "cell_type": "markdown",
   "metadata": {
    "cell_id": "04b2168f9f39479a8f72d52bd12c296e",
    "deepnote_cell_height": 52.390625,
    "deepnote_cell_type": "markdown",
    "id": "kCyFKpgCc72B"
   },
   "source": [
    "(d) Find the 3 students with the highest scores."
   ]
  },
  {
   "cell_type": "code",
   "execution_count": null,
   "metadata": {
    "cell_id": "0325f9df7b1c45d68a39b64cffa88256",
    "deepnote_cell_height": 61,
    "deepnote_cell_type": "code",
    "id": "jCMsttHLdI2c"
   },
   "outputs": [],
   "source": []
  },
  {
   "cell_type": "markdown",
   "metadata": {
    "cell_id": "aed0094abf61465b9a5da5c1cf57d6e0",
    "deepnote_cell_height": 52.390625,
    "deepnote_cell_type": "markdown",
    "id": "uvHV-x-0b--5"
   },
   "source": [
    "(e) Find the names of the students with score above 1200."
   ]
  },
  {
   "cell_type": "code",
   "execution_count": null,
   "metadata": {
    "cell_id": "f803961cb5d6478788d48b81324eba5a",
    "deepnote_cell_height": 61,
    "deepnote_cell_type": "code",
    "id": "gjQEVBO3beeg"
   },
   "outputs": [],
   "source": []
  }
 ],
 "metadata": {
  "colab": {
   "provenance": []
  },
  "deepnote": {},
  "deepnote_execution_queue": [],
  "deepnote_notebook_id": "6b631ec70d314d6284fe73a6b36e50e8",
  "kernelspec": {
   "display_name": "Python 3 (ipykernel)",
   "language": "python",
   "name": "python3"
  },
  "language_info": {
   "codemirror_mode": {
    "name": "ipython",
    "version": 3
   },
   "file_extension": ".py",
   "mimetype": "text/x-python",
   "name": "python",
   "nbconvert_exporter": "python",
   "pygments_lexer": "ipython3",
   "version": "3.10.9"
  }
 },
 "nbformat": 4,
 "nbformat_minor": 4
}
