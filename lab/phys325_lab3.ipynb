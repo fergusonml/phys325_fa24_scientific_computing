{
 "cells": [
  {
   "cell_type": "code",
   "execution_count": null,
   "metadata": {
    "id": "mnhGLOCIz1qw"
   },
   "outputs": [],
   "source": [
    "# run this first\n",
    "import numpy as np\n",
    "import matplotlib.pyplot as plt"
   ]
  },
  {
   "cell_type": "markdown",
   "metadata": {
    "id": "7RMuToOew0Sd"
   },
   "source": [
    "# Problem: COVID-19 data\n",
    "\n",
    "I took the COVID-19 data from\n",
    "\n",
    "https://github.com/CSSEGISandData/COVID-19\n",
    "\n",
    "and extracted the data for Ada County."
   ]
  },
  {
   "cell_type": "markdown",
   "metadata": {
    "id": "0yFmP2DgIJzL"
   },
   "source": [
    "Download this file to your computer\n",
    "https://drive.google.com/file/d/1CF89YtckRFIDnCPlGVot3dhW2_7miiXY/view?usp=drive_link"
   ]
  },
  {
   "cell_type": "code",
   "execution_count": null,
   "metadata": {
    "id": "ctFvjgAfIUKg"
   },
   "outputs": [],
   "source": [
    "# then do these steps\n",
    "from google.colab import files\n",
    "uploaded = files.upload()\n",
    "# it will ask you to select a file from your computer"
   ]
  },
  {
   "cell_type": "markdown",
   "metadata": {
    "id": "Yk6Xn6r4w_6C"
   },
   "source": [
    "(a) Read in the file \"covid_ada_2023.txt\".   \n",
    "\n",
    "Column 0 is the number of days since the first COVID-19 case in Ada County (March 14, 2020), and Column 1 is the number of confirmed cases.  \n",
    "\n",
    "How many days of data do we have?"
   ]
  },
  {
   "cell_type": "code",
   "execution_count": null,
   "metadata": {
    "id": "Dw2R4y6nITAY"
   },
   "outputs": [],
   "source": []
  },
  {
   "cell_type": "markdown",
   "metadata": {
    "id": "2vSKrPE2yCqZ"
   },
   "source": [
    "(b) Plot the number of confirmed cases vs. days.\n",
    "Hint: axes label: `plt.xlabel('days')`  `plt.ylabel('cases')`"
   ]
  },
  {
   "cell_type": "code",
   "execution_count": null,
   "metadata": {
    "id": "dj_3-IMcyMoS"
   },
   "outputs": [],
   "source": []
  },
  {
   "cell_type": "markdown",
   "metadata": {
    "id": "wzE_sJG1XUo8"
   },
   "source": [
    "(c) What is the number of **new** cases on Day 10?  (Note our data points start from Day 0)"
   ]
  },
  {
   "cell_type": "code",
   "execution_count": null,
   "metadata": {
    "id": "IQTPjRr9kHEy"
   },
   "outputs": [],
   "source": []
  },
  {
   "cell_type": "markdown",
   "metadata": {
    "id": "lWkQTsmuyNs9"
   },
   "source": [
    "(d) Calculate the number of new cases each day, and plot the number of new cases vs. days."
   ]
  },
  {
   "cell_type": "code",
   "execution_count": null,
   "metadata": {
    "id": "JMl75rOEysW2"
   },
   "outputs": [],
   "source": []
  },
  {
   "cell_type": "markdown",
   "metadata": {
    "id": "kouGq-yA_s2v"
   },
   "source": [
    "(e) What is the highest number of new cases, and on which day does it occur?"
   ]
  },
  {
   "cell_type": "code",
   "execution_count": null,
   "metadata": {
    "id": "qaxzRJf-AHYw"
   },
   "outputs": [],
   "source": []
  },
  {
   "cell_type": "markdown",
   "metadata": {
    "id": "bk6iArQ064zJ"
   },
   "source": [
    "(f) Calculate the average new cases of the first 7 days (Days 0,1,2,3,4,5,6)."
   ]
  },
  {
   "cell_type": "code",
   "execution_count": null,
   "metadata": {
    "id": "8obZNHsA7Ais"
   },
   "outputs": [],
   "source": []
  },
  {
   "cell_type": "markdown",
   "metadata": {
    "id": "UlLqZRIFywI9"
   },
   "source": [
    "(g) Calculate the 7-day average of new cases.  Plot days vs. 7-day average.\n",
    "\n",
    "Hint:\n",
    "* for Day 3, we calculate the average of Days 0,1,2,3,4,5,6\n",
    "* for Day 4, we calculate the average of Days 1,2,3,4,5,6,7\n",
    "* ...\n",
    "* all the way to 3 days before the last day of data"
   ]
  },
  {
   "cell_type": "code",
   "execution_count": null,
   "metadata": {
    "id": "KEIrz8A1yvEX"
   },
   "outputs": [],
   "source": []
  },
  {
   "cell_type": "markdown",
   "metadata": {
    "id": "vRxsYMIJ71As"
   },
   "source": [
    "(h) (Describe in words.) What's the purpose of calculating the 7-day average?"
   ]
  },
  {
   "cell_type": "code",
   "execution_count": null,
   "metadata": {
    "id": "nrgDL3rskC4H"
   },
   "outputs": [],
   "source": []
  }
 ],
 "metadata": {
  "colab": {
   "provenance": []
  },
  "kernelspec": {
   "display_name": "Python 3 (ipykernel)",
   "language": "python",
   "name": "python3"
  },
  "language_info": {
   "codemirror_mode": {
    "name": "ipython",
    "version": 3
   },
   "file_extension": ".py",
   "mimetype": "text/x-python",
   "name": "python",
   "nbconvert_exporter": "python",
   "pygments_lexer": "ipython3",
   "version": "3.10.9"
  }
 },
 "nbformat": 4,
 "nbformat_minor": 4
}
