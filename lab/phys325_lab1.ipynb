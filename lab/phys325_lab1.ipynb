{
 "cells": [
  {
   "cell_type": "markdown",
   "metadata": {
    "cell_id": "3f21452a914c4c8bafff44fe54b42ec1",
    "deepnote_cell_height": 165.1875,
    "deepnote_cell_type": "markdown",
    "id": "YuZxD2sAMhNA"
   },
   "source": [
    "# Python Basics\n",
    "\n",
    "There are many useful Python tutorials on the Internet that you can consult; for example,\n",
    "[The W3 schools](https://www.w3schools.com/python/default.asp)."
   ]
  },
  {
   "cell_type": "markdown",
   "metadata": {
    "cell_id": "739e3f197966422a8491896e39199c9d",
    "deepnote_cell_height": 165.1875,
    "deepnote_cell_type": "markdown",
    "id": "sluiwVC-_dua"
   },
   "source": [
    "# Style guide\n",
    "Please use **all lower case** with underscores for all your variables and functions; e.g., `angular_momentum`, `angle_in_degree`, etc.  \n",
    "We'll talk more about the official Python style guide later."
   ]
  },
  {
   "cell_type": "markdown",
   "metadata": {
    "cell_id": "3f53aebe179d4f19a010cba25de0d056",
    "deepnote_cell_height": 145.046875,
    "deepnote_cell_type": "markdown",
    "id": "JpApvxOZMq1w"
   },
   "source": [
    "## Problem 1\n",
    "Coding up the momentum of a moving object:\n",
    "\n",
    "$ p = m  * v$\n",
    "\n",
    "\n",
    "\n",
    "\n"
   ]
  },
  {
   "cell_type": "markdown",
   "metadata": {
    "cell_id": "1e68a358c6e6490eb00040dc0fde2f55",
    "deepnote_cell_height": 124.78125,
    "deepnote_cell_type": "markdown",
    "id": "skVneygnx8X1"
   },
   "source": [
    "#### Step 1:\n",
    "For mass m = 50 kg, velocity v = 5 m/s, calculate the momentum p.\n",
    "\n",
    "Print out the result.\n"
   ]
  },
  {
   "cell_type": "code",
   "execution_count": 1,
   "metadata": {
    "cell_id": "735507424baf41caaf85edd41054df47",
    "deepnote_cell_height": 112,
    "deepnote_cell_type": "code",
    "deepnote_to_be_reexecuted": false,
    "executionInfo": {
     "elapsed": 368,
     "status": "ok",
     "timestamp": 1693330129470,
     "user": {
      "displayName": "Heidi Wu",
      "userId": "15067894836072525220"
     },
     "user_tz": 360
    },
    "execution_start": 1629417142037,
    "id": "gvCByTahvQph",
    "source_hash": "86a2cf40"
   },
   "outputs": [],
   "source": [
    "# code here\n",
    "\n"
   ]
  },
  {
   "cell_type": "markdown",
   "metadata": {
    "cell_id": "5064ae0bf867447eb9ba4ab8e57ad0cc",
    "deepnote_cell_height": 147.1875,
    "deepnote_cell_type": "markdown",
    "id": "bQW33iFLvON7"
   },
   "source": [
    "\n",
    "#### Step 2\n",
    "\n",
    "Write a function has two arguments: the mass (m) and velocity (v) and **prints** the momentum (p).\n",
    "\n",
    "Test the code on the same case: m = 50 kg, v = 5 m/s"
   ]
  },
  {
   "cell_type": "code",
   "execution_count": 2,
   "metadata": {
    "cell_id": "ecf1cc5155a043b6801c400e737e6b1d",
    "deepnote_cell_height": 130,
    "deepnote_cell_type": "code",
    "deepnote_to_be_reexecuted": false,
    "executionInfo": {
     "elapsed": 8,
     "status": "ok",
     "timestamp": 1693330129471,
     "user": {
      "displayName": "Heidi Wu",
      "userId": "15067894836072525220"
     },
     "user_tz": 360
    },
    "execution_start": 1629417142079,
    "id": "KuD4csgIMs2Y",
    "source_hash": "be3eab74"
   },
   "outputs": [],
   "source": [
    "# write the function here\n",
    "\n",
    "\n"
   ]
  },
  {
   "cell_type": "code",
   "execution_count": 3,
   "metadata": {
    "cell_id": "d2580eea45b84b5b811a6b320c7ca59e",
    "deepnote_cell_height": 130,
    "deepnote_cell_type": "code",
    "deepnote_to_be_reexecuted": false,
    "executionInfo": {
     "elapsed": 7,
     "status": "ok",
     "timestamp": 1693330129471,
     "user": {
      "displayName": "Heidi Wu",
      "userId": "15067894836072525220"
     },
     "user_tz": 360
    },
    "execution_start": 1629417142079,
    "id": "MLoJrrbVMvgo",
    "source_hash": "653223a8"
   },
   "outputs": [],
   "source": [
    "# test the function here\n",
    "\n",
    "\n"
   ]
  },
  {
   "cell_type": "markdown",
   "metadata": {
    "cell_id": "59b52d42c1d04999a33ee604af4fa17b",
    "deepnote_cell_height": 183.578125,
    "deepnote_cell_type": "markdown",
    "id": "D2ErbS5pv9uR"
   },
   "source": [
    "#### Step 3\n",
    "Write a function that **returns** the momentum (instead of printing it).\n",
    "\n",
    "Test the code on the same case: m = 50 kg, v = 5 m/s again.\n",
    "\n",
    "Create a variable called p **outside** the function and assign to it the function's return value."
   ]
  },
  {
   "cell_type": "code",
   "execution_count": 4,
   "metadata": {
    "cell_id": "3168b648009341eaaebc555297749e46",
    "deepnote_cell_height": 130,
    "deepnote_cell_type": "code",
    "deepnote_to_be_reexecuted": false,
    "executionInfo": {
     "elapsed": 8,
     "status": "ok",
     "timestamp": 1693330129472,
     "user": {
      "displayName": "Heidi Wu",
      "userId": "15067894836072525220"
     },
     "user_tz": 360
    },
    "execution_start": 1629417142080,
    "id": "bnuG_tFIsR8S",
    "source_hash": "be3eab74"
   },
   "outputs": [],
   "source": [
    "# write the function here\n",
    "\n",
    "\n"
   ]
  },
  {
   "cell_type": "code",
   "execution_count": 5,
   "metadata": {
    "cell_id": "40ebc13002064305a72ee4aa4153e16d",
    "deepnote_cell_height": 112,
    "deepnote_cell_type": "code",
    "deepnote_to_be_reexecuted": false,
    "executionInfo": {
     "elapsed": 7,
     "status": "ok",
     "timestamp": 1693330129472,
     "user": {
      "displayName": "Heidi Wu",
      "userId": "15067894836072525220"
     },
     "user_tz": 360
    },
    "execution_start": 1629417142080,
    "id": "BHudyUjoxAVh",
    "source_hash": "efdfd008"
   },
   "outputs": [],
   "source": [
    "# test the function here\n",
    "\n"
   ]
  },
  {
   "cell_type": "markdown",
   "metadata": {
    "cell_id": "09d1d410bc22425586b7199c0cd45094",
    "deepnote_cell_height": 169.578125,
    "deepnote_cell_type": "markdown",
    "id": "R7WbNYELxBvT"
   },
   "source": [
    "#### Step 4\n",
    "Building up the previous function, add an \"if\" statement to check if the input mass is positive.  If the mass is negative, print \"The mass has to be positive\" and don't do any calculation.  Otherwise, output the momentum.  \n",
    "\n",
    "Test with m = -5.\n"
   ]
  },
  {
   "cell_type": "code",
   "execution_count": 6,
   "metadata": {
    "cell_id": "3ac4cf3d6d844777a5491d2279b790a9",
    "deepnote_cell_height": 94,
    "deepnote_cell_type": "code",
    "deepnote_to_be_reexecuted": false,
    "executionInfo": {
     "elapsed": 7,
     "status": "ok",
     "timestamp": 1693330129472,
     "user": {
      "displayName": "Heidi Wu",
      "userId": "15067894836072525220"
     },
     "user_tz": 360
    },
    "execution_start": 1629417142081,
    "id": "86CoQjwKxequ",
    "source_hash": "23b8a86c"
   },
   "outputs": [],
   "source": [
    "# write the function here\n"
   ]
  },
  {
   "cell_type": "code",
   "execution_count": 7,
   "metadata": {
    "cell_id": "7a4895e5a6af46f0b09c6b8e2db3b82c",
    "deepnote_cell_height": 112,
    "deepnote_cell_type": "code",
    "deepnote_to_be_reexecuted": false,
    "executionInfo": {
     "elapsed": 7,
     "status": "ok",
     "timestamp": 1693330129472,
     "user": {
      "displayName": "Heidi Wu",
      "userId": "15067894836072525220"
     },
     "user_tz": 360
    },
    "execution_start": 1629417142084,
    "id": "mhAyApaaxi1l",
    "source_hash": "efdfd008"
   },
   "outputs": [],
   "source": [
    "# test the function here\n",
    "\n"
   ]
  },
  {
   "cell_type": "markdown",
   "metadata": {
    "cell_id": "55e90d0d981344f2949042b07e0098e3",
    "deepnote_cell_height": 341.9375,
    "deepnote_cell_type": "markdown",
    "id": "JR7kL7x-MzBa"
   },
   "source": [
    "## Problem 2\n",
    "\n",
    "Converting polar coordinates $(r, \\phi)$ in to Cartesian coordinates $(x, y)$\n",
    "\n",
    "$x = r \\cos(\\phi) $\n",
    "\n",
    "$y = r \\sin(\\phi) $\n",
    "\n",
    "\n",
    "Note:\n",
    "*  for $\\pi$, sine, cosine, use `import numpy as np` and use `np.pi`, `np.cos()`, `np.sin()`, etc.\n",
    "* `np.sin()` takes angle in *radian*. If your input is degree, convert it into radian.\n",
    "* angle in radian = angle in degree / 180 * pi\n",
    "\n"
   ]
  },
  {
   "cell_type": "markdown",
   "metadata": {
    "cell_id": "69454a50826e4e84a20cb934835fcf05",
    "deepnote_cell_height": 124.78125,
    "deepnote_cell_type": "markdown",
    "id": "QZgNpEEH0Mhk"
   },
   "source": [
    "#### Step 1:\n",
    "r = 10 m, phi = 30 deg, calculate x, y.\n",
    "\n",
    "Note: first convert phi = 30 degree to radian\n",
    "\n"
   ]
  },
  {
   "cell_type": "code",
   "execution_count": 8,
   "metadata": {
    "cell_id": "e2f131da7fbb434f96a7be178a64bc8a",
    "deepnote_cell_height": 94,
    "deepnote_cell_type": "code",
    "deepnote_to_be_reexecuted": false,
    "executionInfo": {
     "elapsed": 7,
     "status": "ok",
     "timestamp": 1693330129473,
     "user": {
      "displayName": "Heidi Wu",
      "userId": "15067894836072525220"
     },
     "user_tz": 360
    },
    "execution_millis": 1,
    "execution_start": 1629417142125,
    "id": "QqSDuDpzzeU5",
    "source_hash": "cb97e23b"
   },
   "outputs": [],
   "source": [
    "# your code here\n"
   ]
  },
  {
   "cell_type": "markdown",
   "metadata": {
    "cell_id": "6c2bef8971774bb7be1ee410a8377b3b",
    "deepnote_cell_height": 110.78125,
    "deepnote_cell_type": "markdown",
    "id": "cvK7oB3W1YZM"
   },
   "source": [
    "#### Step 2:\n",
    "Write a function that takes in two variables (r, phi), convert phi from degree to radian, and output two variables (x,y)"
   ]
  },
  {
   "cell_type": "code",
   "execution_count": 9,
   "metadata": {
    "cell_id": "2b6fd1d814424d5db1ebf8fec98b0687",
    "deepnote_cell_height": 94,
    "deepnote_cell_type": "code",
    "deepnote_to_be_reexecuted": false,
    "executionInfo": {
     "elapsed": 7,
     "status": "ok",
     "timestamp": 1693330129473,
     "user": {
      "displayName": "Heidi Wu",
      "userId": "15067894836072525220"
     },
     "user_tz": 360
    },
    "execution_millis": 0,
    "execution_start": 1629417142126,
    "id": "KO6i4J2TM3yx",
    "source_hash": "cb97e23b"
   },
   "outputs": [],
   "source": [
    "# your code here\n"
   ]
  },
  {
   "cell_type": "markdown",
   "metadata": {
    "cell_id": "7f5d346e186c40798bbf11b8d1a9ffb4",
    "deepnote_cell_height": 266.1875,
    "deepnote_cell_type": "markdown",
    "id": "_RXNDton1uLS"
   },
   "source": [
    "#### Step 3:\n",
    "Write another function: instead of two variables, input a list `v_polar = [r, phi]` and output another list `v_cartesian = [x, y]`.\n",
    "\n",
    "You can think of these lists as *vectors*."
   ]
  },
  {
   "cell_type": "code",
   "execution_count": 10,
   "metadata": {
    "cell_id": "d363837c183e4657b2bd098b6ec0ccbd",
    "deepnote_cell_height": 94,
    "deepnote_cell_type": "code",
    "deepnote_to_be_reexecuted": false,
    "executionInfo": {
     "elapsed": 7,
     "status": "ok",
     "timestamp": 1693330129473,
     "user": {
      "displayName": "Heidi Wu",
      "userId": "15067894836072525220"
     },
     "user_tz": 360
    },
    "execution_start": 1629417142127,
    "id": "s9f3NIxD1t1L",
    "source_hash": "cb97e23b"
   },
   "outputs": [],
   "source": [
    "# your code here\n"
   ]
  },
  {
   "cell_type": "markdown",
   "metadata": {
    "cell_id": "630e7692c12c4021bb9040cea921e970",
    "deepnote_cell_height": 443.9375,
    "deepnote_cell_type": "markdown",
    "id": "KWYUskFNM7qq"
   },
   "source": [
    "## Problem 3\n",
    "(Newman p. 30 Exercise 2.2)\n",
    "\n",
    "A satellite is to be launched into a circular orbit around the Earth so that it orbits the planet once every T seconds.   \n",
    "The altitude h above the Earth's surface is given by\n",
    "\n",
    "$ h =  \\left(\\frac{G M T^2}{4 \\pi^2}\\right)^{1/3}  - R $\n",
    "\n",
    "where\n",
    "\n",
    "$G = 6.67 \\times 10^{-11} \\ \\rm m^3 kg^{-1} s^{-2}$ is Newton's gravitational constant,\n",
    "\n",
    "$M =  5.97 \\times 10^{24} \\ \\rm kg$ is the mass of the Earth, and\n",
    "\n",
    "$R = 6371\\ \\rm km$ is the radius of the Earth.\n",
    "\n",
    "Calculate the altitude (in meter) of a geosynchronous satellite with a period of 23.93 hours."
   ]
  },
  {
   "cell_type": "code",
   "execution_count": 11,
   "metadata": {
    "cell_id": "efce8ff0d8984f21bccd59b0d31df463",
    "deepnote_cell_height": 94,
    "deepnote_cell_type": "code",
    "deepnote_to_be_reexecuted": false,
    "executionInfo": {
     "elapsed": 8,
     "status": "ok",
     "timestamp": 1693330129474,
     "user": {
      "displayName": "Heidi Wu",
      "userId": "15067894836072525220"
     },
     "user_tz": 360
    },
    "execution_millis": 2,
    "execution_start": 1629417142127,
    "id": "9u_rCKB-M-TK",
    "source_hash": "cb97e23b"
   },
   "outputs": [],
   "source": [
    "# your code here\n"
   ]
  },
  {
   "cell_type": "markdown",
   "metadata": {
    "cell_id": "15161a23e8c54a7787f915a46ca21ae0",
    "deepnote_cell_height": 74.78125,
    "deepnote_cell_type": "markdown",
    "id": "xOjQE7_tqhzz"
   },
   "source": [
    "Write a function that takes in an arbitrary T in seconds and outputs the altitude in meter."
   ]
  },
  {
   "cell_type": "code",
   "execution_count": 12,
   "metadata": {
    "cell_id": "efd799d6e7f64ec794050f4cf9978318",
    "deepnote_cell_height": 94,
    "deepnote_cell_type": "code",
    "deepnote_to_be_reexecuted": false,
    "executionInfo": {
     "elapsed": 7,
     "status": "ok",
     "timestamp": 1693330129474,
     "user": {
      "displayName": "Heidi Wu",
      "userId": "15067894836072525220"
     },
     "user_tz": 360
    },
    "execution_millis": 17,
    "execution_start": 1629417142133,
    "id": "YWDA-snTqmgj",
    "source_hash": "cb97e23b"
   },
   "outputs": [],
   "source": [
    "# your code here\n"
   ]
  },
  {
   "cell_type": "markdown",
   "metadata": {
    "cell_id": "c494a734d793483d88a103af60773acd",
    "deepnote_cell_height": 111.1875,
    "deepnote_cell_type": "markdown",
    "id": "MY7MMSxUQWkw",
    "tags": []
   },
   "source": [
    "## Before you go\n",
    "* Please submit the assignment on Canvas\n",
    "* Sign out with the TA"
   ]
  }
 ],
 "metadata": {
  "colab": {
   "provenance": []
  },
  "deepnote": {},
  "deepnote_execution_queue": [],
  "deepnote_notebook_id": "de30fb2e96ec456fa0dbc2d6ccc5d154",
  "kernelspec": {
   "display_name": "Python 3 (ipykernel)",
   "language": "python",
   "name": "python3"
  },
  "language_info": {
   "codemirror_mode": {
    "name": "ipython",
    "version": 3
   },
   "file_extension": ".py",
   "mimetype": "text/x-python",
   "name": "python",
   "nbconvert_exporter": "python",
   "pygments_lexer": "ipython3",
   "version": "3.10.9"
  }
 },
 "nbformat": 4,
 "nbformat_minor": 4
}
