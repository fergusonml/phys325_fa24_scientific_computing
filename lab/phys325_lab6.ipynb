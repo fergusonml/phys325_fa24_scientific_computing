{
 "cells": [
  {
   "cell_type": "markdown",
   "metadata": {
    "cell_id": "81f53343b4ba43f9bed7b04d249cecea",
    "deepnote_cell_type": "markdown",
    "id": "lL5i58G3MZ0-"
   },
   "source": [
    "# Problem 1:  LU decomposition by hand\n",
    "Please take a picture of your work and submit it on Canvas.\n",
    "\n",
    "(a) Perform the LU decomposition of this matrix (without pivoting).\n",
    "$$  \n",
    "A =  \\begin{pmatrix}\n",
    "    1 & 2 & 3  \\\\\n",
    "    3 & 8 & 7 \\\\\n",
    "    2 & 0 & 7 \\\\\n",
    "  \\end{pmatrix}\n",
    "$$\n",
    "\n",
    "(b) Check that you indeed recover A by explicitly multiplying L with U.\n",
    "\n",
    "\n",
    "(c) Calculate the determinant of $A$ using the LU decomposition.\n",
    "\n",
    "(d) Solve the linear equation $Ax = b$, where\n",
    "$$  \n",
    "b =  \\begin{pmatrix}\n",
    "    1 \\\\\n",
    "    3 \\\\\n",
    "    2 \\\\\n",
    "  \\end{pmatrix}\n",
    "$$\n",
    "using the LU decomposition.\n"
   ]
  },
  {
   "cell_type": "markdown",
   "metadata": {
    "cell_id": "ed596b5fc6a44b6994ed1d3949d00392",
    "deepnote_cell_type": "markdown",
    "id": "SduNf610RhFF"
   },
   "source": [
    "# Problem 2: LU decomposition with scipy\n",
    "(a) Use `scipy.linalg.lu` to calculate the LU decomposition of A.  Verify that A = P L U using `np.allclose()`."
   ]
  },
  {
   "cell_type": "code",
   "execution_count": null,
   "metadata": {
    "cell_id": "28f4de18590b40beab9a4de674cd224f",
    "deepnote_cell_type": "code",
    "id": "axmd8K5DRgZL"
   },
   "outputs": [],
   "source": []
  },
  {
   "cell_type": "markdown",
   "metadata": {
    "cell_id": "7fd9e44e94354a4aa5144bd6056c8a31",
    "deepnote_cell_type": "markdown"
   },
   "source": [
    "(b) Why are the scipy's L & U matrices different from yours?"
   ]
  },
  {
   "cell_type": "code",
   "execution_count": null,
   "metadata": {
    "cell_id": "86d018ca97b74b93a3efd9dca48e0222",
    "deepnote_cell_type": "code"
   },
   "outputs": [],
   "source": []
  },
  {
   "cell_type": "markdown",
   "metadata": {
    "cell_id": "5598645d27194a5eba9ed2c7b39a991c",
    "deepnote_cell_type": "markdown"
   },
   "source": [
    "(c) Calculate the determinant of $A$.  Does it match your previous result?"
   ]
  },
  {
   "cell_type": "code",
   "execution_count": null,
   "metadata": {
    "cell_id": "a1d73e9675e9404a9f049c07f8d35b48",
    "deepnote_cell_type": "code"
   },
   "outputs": [],
   "source": []
  },
  {
   "cell_type": "markdown",
   "metadata": {
    "cell_id": "b73e7d4c1d27434190de864f22ac2a80",
    "deepnote_cell_type": "markdown"
   },
   "source": [
    "(d) Use the function `scipy.linalg.solve` to solve the linear equation $Ax = b$ from the previous exercise directly, and print the solution x. Does it match your previous result?"
   ]
  },
  {
   "cell_type": "code",
   "execution_count": null,
   "metadata": {
    "cell_id": "91e397cdf4fa4540a6dcdb0d878abc44",
    "deepnote_cell_type": "code"
   },
   "outputs": [],
   "source": []
  },
  {
   "cell_type": "markdown",
   "metadata": {
    "cell_id": "53cfc3bdc74d4c1eae5b6684082efe8c",
    "deepnote_cell_type": "markdown"
   },
   "source": [
    "# Problem 3: Eigenvalues and eigenvectors by hand\n",
    "\n",
    "Please take a picture of your work and submit it on Canvas.\n",
    " \n",
    "(a)\n",
    "$$  \n",
    "B =  \\begin{pmatrix}\n",
    "    1 & 3  \\\\\n",
    "    3 & 1 \\\\\n",
    "  \\end{pmatrix}\n",
    "$$\n",
    "Find the eigenvalues $\\lambda_0$, $\\lambda_1$ and corresponding eigenvectors ${\\vec v}_0$ and ${\\vec v}_1$.\n",
    "\n",
    "(b) Verify that \n",
    "$$\n",
    "B {\\vec v}_0 = \\lambda_0 {\\vec v}_0\n",
    "$$\n",
    "and \n",
    "$$\n",
    "B {\\vec v}_1 = \\lambda_1 {\\vec v}_1\n",
    "$$\n",
    "\n",
    "(c) Use the eigenvalues and eigenvectors to construct the eigendecomposition.\n",
    "$$\n",
    "B = X \\Lambda X^T \n",
    "$$\n",
    "What are $X$ and $\\Lambda$ matrices?\n",
    "\n",
    "(d) Verify that $X X^T = X^T X = I$ and $B = X \\Lambda X^T $"
   ]
  },
  {
   "cell_type": "markdown",
   "metadata": {
    "cell_id": "0a13071d65034b64bd85f2a794c96f3e",
    "deepnote_cell_type": "markdown"
   },
   "source": [
    "# Problem 4: Eigenvalues and eigenvectors with scipy or numpy \n",
    "\n",
    "(a) Use `numpy.linalg.eig` or `scipy.linalg.eig` to calculate the eigenvalues and eigenvectors of $B$.  Note that the eigenvectors are the **columns** of the $v$ matrix. \n",
    "\n",
    "Print the first column and the second column of the $v$ matrix."
   ]
  },
  {
   "cell_type": "code",
   "execution_count": null,
   "metadata": {
    "cell_id": "2201794ee0144c4e970604a68dd1356a",
    "deepnote_cell_type": "code",
    "deepnote_to_be_reexecuted": false,
    "execution_start": 1633906349116,
    "id": "KigbHD9l24oL",
    "source_hash": "b623e53d"
   },
   "outputs": [],
   "source": []
  },
  {
   "cell_type": "markdown",
   "metadata": {
    "cell_id": "a692704f420a44a59b1729a13c6ea960",
    "deepnote_cell_type": "markdown",
    "tags": []
   },
   "source": [
    "(b) Verify that $X X^T = I$ and $X^T X = I$ (use `X.T` for the transpose of X)"
   ]
  },
  {
   "cell_type": "code",
   "execution_count": null,
   "metadata": {
    "cell_id": "ddb66326eaaf4ffeae58544e100aca5b",
    "deepnote_cell_type": "code"
   },
   "outputs": [],
   "source": []
  },
  {
   "cell_type": "markdown",
   "metadata": {
    "cell_id": "99e85b756d734191a386cfef9bc1ac80",
    "deepnote_cell_type": "markdown"
   },
   "source": [
    "(c) Use `np.diag()` to create $\\Lambda$ and verify that $B = X \\Lambda X^T$"
   ]
  },
  {
   "cell_type": "code",
   "execution_count": null,
   "metadata": {
    "cell_id": "7801a80e327d4fcdb8f8a44fe0959f66",
    "deepnote_cell_type": "code"
   },
   "outputs": [],
   "source": []
  }
 ],
 "metadata": {
  "colab": {
   "collapsed_sections": [],
   "provenance": []
  },
  "deepnote": {},
  "deepnote_execution_queue": [],
  "deepnote_notebook_id": "393bc7954baf4ecbb2fc223f3bd7c79f",
  "kernelspec": {
   "display_name": "Python 3",
   "language": "python",
   "name": "python3"
  },
  "language_info": {
   "codemirror_mode": {
    "name": "ipython",
    "version": 3
   },
   "file_extension": ".py",
   "mimetype": "text/x-python",
   "name": "python",
   "nbconvert_exporter": "python",
   "pygments_lexer": "ipython3",
   "version": "3.8.3"
  }
 },
 "nbformat": 4,
 "nbformat_minor": 1
}
