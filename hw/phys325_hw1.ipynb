{
 "cells": [
  {
   "cell_type": "markdown",
   "metadata": {
    "id": "ynBDtQZCBrLr"
   },
   "source": [
    "# Due Friday September 1, 2023 (11:59 pm)\n",
    "\n",
    "* First, go to **File** and **Save a copy in Drive**\n",
    "\n",
    "* When you are ready to submit, download the file, and upload it to Canvas."
   ]
  },
  {
   "cell_type": "markdown",
   "metadata": {
    "id": "N_LZ8p6b51lu"
   },
   "source": [
    "# Problem 1: Cartesian to polar coordinates, and sanity checks (10 points)\n",
    "\n",
    "Note!  Here we only consider x > 0, y > 0, and phi is in radian.\n",
    "\n",
    "Hint: you'll need `import numpy as np` and use `np.arctan()`"
   ]
  },
  {
   "cell_type": "markdown",
   "metadata": {
    "id": "7V-cpc8ufVOl"
   },
   "source": [
    "(a)  For x = 1, y = 1, calculate r, phi. (2 points)"
   ]
  },
  {
   "cell_type": "code",
   "execution_count": null,
   "metadata": {
    "id": "GWJ2yfqS5xnn"
   },
   "outputs": [],
   "source": []
  },
  {
   "cell_type": "markdown",
   "metadata": {
    "id": "y5O1-aOkcIBx"
   },
   "source": [
    "(b) Write a function that takes in x, y, and returns r, phi (2 points)"
   ]
  },
  {
   "cell_type": "code",
   "execution_count": null,
   "metadata": {
    "id": "O5MTftv2euaN"
   },
   "outputs": [],
   "source": []
  },
  {
   "cell_type": "markdown",
   "metadata": {
    "id": "GI2dM2COexWU"
   },
   "source": [
    "(c) Write a function that takes in r, phi and returns x, y (phi in radian)  (2 points)"
   ]
  },
  {
   "cell_type": "code",
   "execution_count": null,
   "metadata": {
    "id": "sMfeDfnmewZE"
   },
   "outputs": [],
   "source": []
  },
  {
   "cell_type": "markdown",
   "metadata": {
    "id": "s7CRnLoDfPLt"
   },
   "source": [
    "(d) For x = 1, y = 2, first convert them to r, phi using your function in (b), assign them to two variables (r_convert, phi_convert), and convert r_convert, phi_convert back to x, y using (c).  If your answer recovers the original values, your code is working!  If not, go back and check the previous parts (2 points)"
   ]
  },
  {
   "cell_type": "code",
   "execution_count": null,
   "metadata": {
    "id": "QZSF96OVfNX_"
   },
   "outputs": [],
   "source": []
  },
  {
   "cell_type": "markdown",
   "metadata": {
    "id": "u2oo-BPJhGDZ"
   },
   "source": [
    "(e) For r = 1, phi = $\\pi/6$, first convert them to x, y using your function in (c), assign them to two variables x_convert, y_convert, and convert x_convert, y_convert back into r, phi using your function in part (b).\n",
    "(2 points)"
   ]
  },
  {
   "cell_type": "code",
   "execution_count": null,
   "metadata": {
    "id": "FjyBjTzShLtt"
   },
   "outputs": [],
   "source": []
  },
  {
   "cell_type": "markdown",
   "metadata": {
    "id": "eBGnE2MU9AiU"
   },
   "source": [
    "## Extra credit (2 points):\n",
    "\n",
    "If you're wondering about cases with x < 0 or y < 0, learn about `np.arctan2`.\n",
    "\n",
    "Hint: instead of `np.arctan`, use `np.arctan2`.  \n",
    "\n",
    "Test it on (-1,1), (-1,-1), and (1,-1).\n",
    "Do you get phi = $3 \\pi/4$,  $5 \\pi/4$,  $7 \\pi/4$?"
   ]
  },
  {
   "cell_type": "code",
   "execution_count": null,
   "metadata": {
    "id": "WMZmz1HIMiyO"
   },
   "outputs": [],
   "source": []
  },
  {
   "cell_type": "markdown",
   "metadata": {
    "id": "doxcZZzAjGjz"
   },
   "source": [
    "# Problem 2: Planetary orbits (20 points)\n",
    "\n",
    "(Adapted from Newman Exercise 2.6) A planet is orbiting the Sun in an elliptical orbit. When it's at the closest approach to the Sun (perihelion), let's call its distance $d_1$ and velocity $v_1$.\n",
    "When it's at the farthest point from the Sun (aphelion), let's call its distance $d_2$ and velocity $v_2$.\n",
    "\n",
    "Kepler's law: $d_1 \\ v_1 = d_2 \\ v_2$\n",
    "\n",
    "The kinetic energy plus gravitational energy for a planet with velocity $v$ and distance $r$ is given by\n",
    "$E_1 = \\frac{1}{2} m v^2 - \\frac{G M m }{r}$, where\n",
    "$m$ is the planet's mass\n",
    "\n",
    "$M = 1.9891\\times 10^{30}$ kg is the mass of the Sun, and\n",
    "\n",
    "$G = 6.6738\\times 10^{-11} \\ m^3 kg^{-1} s^{-2}$ is Newton's gravitational constant.\n",
    "\n",
    "Given energy conservation, we have\n",
    "\n",
    "$v_2^2 - \\big(\\frac{2 GM}{v_1 d_1}\\big) v_2 - \\big( v_1^2 -\\frac{2 G M}{d_1}  \\big)  = 0$\n",
    "\n",
    "And $v_2$ is the smaller root of this quadratic equation\n",
    "\n"
   ]
  },
  {
   "cell_type": "markdown",
   "metadata": {
    "id": "cHwn9AVwoc6N"
   },
   "source": [
    "(a) For the Earth,\n",
    "\n",
    "$d_1 = 1.4740\\times 10^{11}\\ m$\n",
    "\n",
    "$v_1 = 3.0287 \\times 10^4 \\ m$\n",
    "\n",
    "calculate $v_2$.\n",
    "\n",
    "\n",
    "Hint: you can use the solution of $a x^2 + b x + c = 0$ by defining a = 1, b = (coefficient of $v_2$), c = constant.  (5 points)\n"
   ]
  },
  {
   "cell_type": "code",
   "execution_count": null,
   "metadata": {
    "id": "Iy4pwMsPq5X6"
   },
   "outputs": [],
   "source": []
  },
  {
   "cell_type": "markdown",
   "metadata": {
    "id": "vQueXMyyodFx"
   },
   "source": [
    "(b) Use Kepler's law to calculate $d_2$  (2 points)"
   ]
  },
  {
   "cell_type": "code",
   "execution_count": null,
   "metadata": {
    "id": "__IMXhN-8C4F"
   },
   "outputs": [],
   "source": []
  },
  {
   "cell_type": "markdown",
   "metadata": {
    "id": "W0fUnBuerFHQ"
   },
   "source": [
    "(c) We can use the information above to calculate the orbital parameters\n",
    "\n",
    "Semi-major axis: $a = (d_1 + d_2)/2$\n",
    "\n",
    "Semi-minor axis: $b = \\sqrt{d_1 d_2}$\n",
    "\n",
    "Orbital period: $T = \\frac{2 \\pi a b}{d_1 v_1}$\n",
    "\n",
    "Orbital eccentricity $e = \\frac{d_2 - d_1}{d_2 + d_1}$\n",
    "\n",
    "Calculate the orbital period for the Earth. Verify that the period is 1 year.   (2 points)"
   ]
  },
  {
   "cell_type": "code",
   "execution_count": null,
   "metadata": {
    "id": "LimF7HH0r2HA"
   },
   "outputs": [],
   "source": []
  },
  {
   "cell_type": "markdown",
   "metadata": {
    "id": "WOXbDZoDsMBm"
   },
   "source": [
    "(d) Calculate the orbital eccentricity (e) of the Earth.  (2 points)"
   ]
  },
  {
   "cell_type": "code",
   "execution_count": null,
   "metadata": {
    "id": "WhmkmoEosQjp"
   },
   "outputs": [],
   "source": []
  },
  {
   "cell_type": "markdown",
   "metadata": {
    "id": "CeKC-TVHsU8h"
   },
   "source": [
    "(e) Write a function with input parameters $d_1$, $v_1$, and prints $d_2$, $v_2$, $T$, and $e$, together with the units. (5 points)\n",
    "\n",
    "Hint: `print(f'{v1:e}')` prints `v1` in scientific notation.  "
   ]
  },
  {
   "cell_type": "code",
   "execution_count": null,
   "metadata": {
    "id": "87t8ggvu8d3V"
   },
   "outputs": [],
   "source": []
  },
  {
   "cell_type": "markdown",
   "metadata": {
    "id": "l5pStSJvsqHq"
   },
   "source": [
    "(f) Halley's Comet has\n",
    "\n",
    "$d_1 = 8.7830 \\times 10^{10} \\rm m$\n",
    "\n",
    "$v_1 = 5.4529 \\times 10^{4} \\rm m/s$\n",
    "\n",
    "Input these values into your function and calculate $d_2$, $v_2$, $T$, and $e$.  Verify that the period is 76 years.  (2 points)"
   ]
  },
  {
   "cell_type": "code",
   "execution_count": null,
   "metadata": {
    "id": "QlEAJ0zA8fNw"
   },
   "outputs": [],
   "source": []
  },
  {
   "cell_type": "markdown",
   "metadata": {
    "id": "3p9nOjJg56nA"
   },
   "source": [
    "(g) What's the difference between the orbit of the Earth and the orbit of Halley's Comet? (2 points)  (describe in words)"
   ]
  },
  {
   "cell_type": "code",
   "execution_count": null,
   "metadata": {
    "id": "9whUvei97Pr1"
   },
   "outputs": [],
   "source": []
  }
 ],
 "metadata": {
  "colab": {
   "provenance": []
  },
  "kernelspec": {
   "display_name": "Python 3 (ipykernel)",
   "language": "python",
   "name": "python3"
  },
  "language_info": {
   "codemirror_mode": {
    "name": "ipython",
    "version": 3
   },
   "file_extension": ".py",
   "mimetype": "text/x-python",
   "name": "python",
   "nbconvert_exporter": "python",
   "pygments_lexer": "ipython3",
   "version": "3.10.9"
  }
 },
 "nbformat": 4,
 "nbformat_minor": 4
}
